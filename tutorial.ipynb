{
 "cells": [
  {
   "cell_type": "markdown",
   "metadata": {},
   "source": [
    "# amie tutorial\n",
    "Welcome to the amie tutorial. This will tell you everything you need to know to get started with amie."
   ]
  },
  {
   "cell_type": "markdown",
   "metadata": {},
   "source": [
    "## 0. Install the client\n",
    "\n",
    "Install with:\n",
    "`pip install amieci` \n",
    "in your terminal"
   ]
  },
  {
   "cell_type": "markdown",
   "metadata": {},
   "source": [
    "## 1. Loging in\n",
    "\n",
    "Go to https://amie.ai/ and register to create your account. Click on your name in the top right or go to [https://amie.ai/](\"https://amie.ai/#/user\") to get your API key."
   ]
  },
  {
   "cell_type": "code",
   "execution_count": 22,
   "metadata": {
    "collapsed": true
   },
   "outputs": [],
   "source": [
    "import pandas as pd \n",
    "import numpy as np\n",
    "import matplotlib.pyplot as plt\n",
    "import amieci\n",
    "\n",
    "my_key = \"YOUR-KEY\"\n",
    "\n",
    "garden = amieci.Garden(key= my_key)\n",
    "garden.load()"
   ]
  },
  {
   "cell_type": "markdown",
   "metadata": {},
   "source": [
    "All your data lives in a garden, this corresponds to the infinite canvas in the app. Your garden contains all of your trees and trees that are shared with you."
   ]
  },
  {
   "cell_type": "markdown",
   "metadata": {},
   "source": [
    "## 2. Add data\n",
    "In amie data lives in leaves, which are part of a tree. All trees are in your garden. A tree contains connected data. Leaves can have parents and children. Children inherit metaparametes from their parents. You can also make branches to explore different avenues and keep everything structured."
   ]
  },
  {
   "cell_type": "markdown",
   "metadata": {},
   "source": [
    "### 2.1 Garden, Trees, leaves"
   ]
  },
  {
   "cell_type": "code",
   "execution_count": 23,
   "metadata": {},
   "outputs": [
    {
     "data": {
      "text/plain": [
       "<amieci.highlevel.Tree at 0x1d3709a96a0>"
      ]
     },
     "execution_count": 23,
     "metadata": {},
     "output_type": "execute_result"
    }
   ],
   "source": [
    "garden.new_tree()"
   ]
  },
  {
   "cell_type": "markdown",
   "metadata": {},
   "source": [
    "The new tree will automatically become your current tree, and you can access it with:"
   ]
  },
  {
   "cell_type": "code",
   "execution_count": 24,
   "metadata": {},
   "outputs": [
    {
     "data": {
      "text/plain": [
       "<amieci.highlevel.Tree at 0x1d3709a96a0>"
      ]
     },
     "execution_count": 24,
     "metadata": {},
     "output_type": "execute_result"
    }
   ],
   "source": [
    "garden.ct"
   ]
  },
  {
   "cell_type": "markdown",
   "metadata": {},
   "source": [
    "To navigate easier, you can also stick it into a variable"
   ]
  },
  {
   "cell_type": "code",
   "execution_count": 25,
   "metadata": {},
   "outputs": [],
   "source": [
    "tree = garden.new_tree()"
   ]
  },
  {
   "cell_type": "markdown",
   "metadata": {},
   "source": [
    "You have to give it a title and a description:"
   ]
  },
  {
   "cell_type": "code",
   "execution_count": 26,
   "metadata": {},
   "outputs": [],
   "source": [
    "tree.set_title(\"My first tree\")\n",
    "tree.set_description(\"Learning amieci\")"
   ]
  },
  {
   "cell_type": "markdown",
   "metadata": {},
   "source": [
    "You save and upload your tree to amie with: "
   ]
  },
  {
   "cell_type": "code",
   "execution_count": 27,
   "metadata": {},
   "outputs": [],
   "source": [
    "tree.save()"
   ]
  },
  {
   "cell_type": "markdown",
   "metadata": {},
   "source": [
    "Now you can add your first leaf to the tree:"
   ]
  },
  {
   "cell_type": "code",
   "execution_count": 28,
   "metadata": {},
   "outputs": [
    {
     "data": {
      "text/plain": [
       "<amieci.highlevel.Leaf at 0x1d3709c0860>"
      ]
     },
     "execution_count": 28,
     "metadata": {},
     "output_type": "execute_result"
    }
   ],
   "source": [
    "tree.new_leaf()"
   ]
  },
  {
   "cell_type": "markdown",
   "metadata": {},
   "source": [
    "As with the tree, the garden tracks the leaf you are working on in the current leaf:"
   ]
  },
  {
   "cell_type": "code",
   "execution_count": 29,
   "metadata": {},
   "outputs": [
    {
     "data": {
      "text/plain": [
       "<amieci.highlevel.Leaf at 0x1d3709c0860>"
      ]
     },
     "execution_count": 29,
     "metadata": {},
     "output_type": "execute_result"
    }
   ],
   "source": [
    "garden.ct.cl"
   ]
  },
  {
   "cell_type": "markdown",
   "metadata": {},
   "source": [
    "Just like the tree:"
   ]
  },
  {
   "cell_type": "code",
   "execution_count": 30,
   "metadata": {},
   "outputs": [
    {
     "data": {
      "text/plain": [
       "<amieci.highlevel.Leaf at 0x1d3709c0860>"
      ]
     },
     "execution_count": 30,
     "metadata": {},
     "output_type": "execute_result"
    }
   ],
   "source": [
    "tree.cl"
   ]
  },
  {
   "cell_type": "markdown",
   "metadata": {},
   "source": [
    "As before, you can stick it into a variable:"
   ]
  },
  {
   "cell_type": "code",
   "execution_count": 31,
   "metadata": {},
   "outputs": [],
   "source": [
    "leaf = tree.cl"
   ]
  },
  {
   "cell_type": "markdown",
   "metadata": {},
   "source": [
    "You add a title and a description with the ```.set_title``` and ```.set_description``` commands. You can also append the description with ```.append_description``` and insert into the beginning of the description with ```.insert_description```. You access title and description with ```.description``` and ```.title```."
   ]
  },
  {
   "cell_type": "code",
   "execution_count": 32,
   "metadata": {},
   "outputs": [
    {
     "data": {
      "text/plain": [
       "\"Today I'm ... : \\nlearning amie\\n..this is fun\""
      ]
     },
     "execution_count": 32,
     "metadata": {},
     "output_type": "execute_result"
    }
   ],
   "source": [
    "leaf.set_title(\"My first leaf\")\n",
    "leaf.set_description(\"learning amie\")\n",
    "leaf.append_description(\"..this is fun\")\n",
    "leaf.insert_description(\"Today I'm ... : \")\n",
    "leaf.description"
   ]
  },
  {
   "cell_type": "markdown",
   "metadata": {},
   "source": [
    "You save your leaf, just like the tree with ```.save()```."
   ]
  },
  {
   "cell_type": "code",
   "execution_count": 33,
   "metadata": {},
   "outputs": [],
   "source": [
    "leaf.save()"
   ]
  },
  {
   "cell_type": "markdown",
   "metadata": {},
   "source": [
    "Now you can go to the app and see your first tree, with it's first leaf."
   ]
  },
  {
   "cell_type": "markdown",
   "metadata": {},
   "source": [
    "To make a new leaf in the same tree, you use ```.new_leaf()``` again:"
   ]
  },
  {
   "cell_type": "code",
   "execution_count": 34,
   "metadata": {},
   "outputs": [],
   "source": [
    "leaf_2 = tree.new_leaf()"
   ]
  },
  {
   "cell_type": "markdown",
   "metadata": {},
   "source": [
    "This leaf will automatically be a child of the previous leaf."
   ]
  },
  {
   "cell_type": "markdown",
   "metadata": {},
   "source": [
    "### 2.2 Tracking parameters"
   ]
  },
  {
   "cell_type": "markdown",
   "metadata": {},
   "source": [
    "You can track parameters in the leaves as key values. They are added in the leaves under ```.kvs```"
   ]
  },
  {
   "cell_type": "code",
   "execution_count": 35,
   "metadata": {},
   "outputs": [],
   "source": [
    "leaf_2.kvs.add('temperature', 10)"
   ]
  },
  {
   "cell_type": "markdown",
   "metadata": {},
   "source": [
    "You can then access them quickly with the ```leaf.kvs.``` notation:"
   ]
  },
  {
   "cell_type": "code",
   "execution_count": 36,
   "metadata": {},
   "outputs": [
    {
     "data": {
      "text/plain": [
       "'10'"
      ]
     },
     "execution_count": 36,
     "metadata": {},
     "output_type": "execute_result"
    }
   ],
   "source": [
    "leaf_2.kvs.temperature"
   ]
  },
  {
   "cell_type": "markdown",
   "metadata": {},
   "source": [
    "You can also add a full dictionary:"
   ]
  },
  {
   "cell_type": "code",
   "execution_count": 37,
   "metadata": {},
   "outputs": [],
   "source": [
    "params = {'humidity' : 20, 'pressure' : 100}\n",
    "leaf_2.kvs.load_from_dict(params)"
   ]
  },
  {
   "cell_type": "markdown",
   "metadata": {},
   "source": [
    "You can use the app to quickly visualise parameters. Let's save, add a new leaf and update the parameters:"
   ]
  },
  {
   "cell_type": "code",
   "execution_count": 38,
   "metadata": {},
   "outputs": [],
   "source": [
    "leaf_2.set_title(\"First kvs\")\n",
    "leaf_2.set_title(\"Added the first kvs\")\n",
    "leaf_2.save()"
   ]
  },
  {
   "cell_type": "code",
   "execution_count": 39,
   "metadata": {},
   "outputs": [],
   "source": [
    "leaf_3 = tree.new_leaf()"
   ]
  },
  {
   "cell_type": "code",
   "execution_count": 40,
   "metadata": {},
   "outputs": [],
   "source": [
    "params = {'humidity' : 20, 'pressure' : 100, 'temperature' : 100}\n",
    "leaf_3.kvs.load_from_dict(params)\n",
    "leaf_3.save()"
   ]
  },
  {
   "cell_type": "markdown",
   "metadata": {},
   "source": [
    "Now you can go to the app and inspect your parameters. They will show up on the bottom of the page. If you click on them, their previous values will be displayed next to the leaves in the graphview to the left.\n",
    "\n",
    "You can also plot them. Click on the plot button in the top left of the canvas and select humidity on the x axis. Now the graph will re-arrange to become a plot."
   ]
  },
  {
   "cell_type": "markdown",
   "metadata": {},
   "source": [
    "### 2.3 Adding files\n",
    "\n",
    "Let's make a plot and uplod it:"
   ]
  },
  {
   "cell_type": "code",
   "execution_count": 41,
   "metadata": {},
   "outputs": [],
   "source": [
    "import numpy\n",
    "import matplotlib.pyplot as plt"
   ]
  },
  {
   "cell_type": "code",
   "execution_count": 42,
   "metadata": {},
   "outputs": [
    {
     "data": {
      "image/png": "[encoded data removed]",
      "text/plain": [
       "<matplotlib.figure.Figure at 0x1d3709c2a58>"
      ]
     },
     "metadata": {
      "needs_background": "light"
     },
     "output_type": "display_data"
    }
   ],
   "source": [
    "data = numpy.random.rand(100)\n",
    "fig = plt.figure()\n",
    "plt.plot(data)\n",
    "plt.show()"
   ]
  },
  {
   "cell_type": "markdown",
   "metadata": {},
   "source": [
    "A matplotlib figure is added with with ```.add_plot(filename, fig)``` function. You also have the option to add a caption. The figures will be converted to PNGs, so it's a good idea to add that extension to the filename."
   ]
  },
  {
   "cell_type": "code",
   "execution_count": 43,
   "metadata": {},
   "outputs": [],
   "source": [
    "leaf_plot = tree.new_leaf()"
   ]
  },
  {
   "cell_type": "code",
   "execution_count": 44,
   "metadata": {},
   "outputs": [],
   "source": [
    "leaf_plot.set_title(\"Leaf with a plot\")\n",
    "leaf_plot.set_description(\"Now there is a plot\")\n",
    "leaf_plot.add_plot('plot.png', fig, caption=\"cool\")\n",
    "leaf_plot.save()"
   ]
  },
  {
   "cell_type": "markdown",
   "metadata": {},
   "source": [
    "Now you can check out the the plot in the app. You can also download it from there or change the caption."
   ]
  },
  {
   "cell_type": "markdown",
   "metadata": {},
   "source": [
    "To add an arbitraty file, convert it to bytes and use the ```.add_data(filename, file)``` function:"
   ]
  },
  {
   "cell_type": "code",
   "execution_count": 45,
   "metadata": {},
   "outputs": [],
   "source": [
    "import pandas as pd"
   ]
  },
  {
   "cell_type": "code",
   "execution_count": 46,
   "metadata": {},
   "outputs": [
    {
     "data": {
      "text/html": [
       "<div>\n",
       "<style scoped>\n",
       "    .dataframe tbody tr th:only-of-type {\n",
       "        vertical-align: middle;\n",
       "    }\n",
       "\n",
       "    .dataframe tbody tr th {\n",
       "        vertical-align: top;\n",
       "    }\n",
       "\n",
       "    .dataframe thead th {\n",
       "        text-align: right;\n",
       "    }\n",
       "</style>\n",
       "<table border=\"1\" class=\"dataframe\">\n",
       "  <thead>\n",
       "    <tr style=\"text-align: right;\">\n",
       "      <th></th>\n",
       "      <th>cats</th>\n",
       "      <th>dogs</th>\n",
       "      <th>horses</th>\n",
       "      <th>pandas</th>\n",
       "    </tr>\n",
       "  </thead>\n",
       "  <tbody>\n",
       "    <tr>\n",
       "      <th>0</th>\n",
       "      <td>28</td>\n",
       "      <td>30</td>\n",
       "      <td>81</td>\n",
       "      <td>9</td>\n",
       "    </tr>\n",
       "    <tr>\n",
       "      <th>1</th>\n",
       "      <td>25</td>\n",
       "      <td>97</td>\n",
       "      <td>74</td>\n",
       "      <td>6</td>\n",
       "    </tr>\n",
       "    <tr>\n",
       "      <th>2</th>\n",
       "      <td>89</td>\n",
       "      <td>51</td>\n",
       "      <td>83</td>\n",
       "      <td>94</td>\n",
       "    </tr>\n",
       "    <tr>\n",
       "      <th>3</th>\n",
       "      <td>72</td>\n",
       "      <td>62</td>\n",
       "      <td>48</td>\n",
       "      <td>86</td>\n",
       "    </tr>\n",
       "    <tr>\n",
       "      <th>4</th>\n",
       "      <td>92</td>\n",
       "      <td>98</td>\n",
       "      <td>53</td>\n",
       "      <td>66</td>\n",
       "    </tr>\n",
       "  </tbody>\n",
       "</table>\n",
       "</div>"
      ],
      "text/plain": [
       "   cats  dogs  horses  pandas\n",
       "0    28    30      81       9\n",
       "1    25    97      74       6\n",
       "2    89    51      83      94\n",
       "3    72    62      48      86\n",
       "4    92    98      53      66"
      ]
     },
     "execution_count": 46,
     "metadata": {},
     "output_type": "execute_result"
    }
   ],
   "source": [
    "df = pd.DataFrame(np.random.randint(0,100,size=(100, 4)), columns=['cats', 'dogs', 'horses', 'pandas'])\n",
    "df.head()"
   ]
  },
  {
   "cell_type": "markdown",
   "metadata": {},
   "source": [
    "Convert to CSV and add as bytes:"
   ]
  },
  {
   "cell_type": "code",
   "execution_count": 47,
   "metadata": {},
   "outputs": [],
   "source": [
    "sep = ';'\n",
    "file = bytes(df.to_csv(sep=sep), 'utf-8')"
   ]
  },
  {
   "cell_type": "markdown",
   "metadata": {},
   "source": [
    "You can add the separator as a parameter:"
   ]
  },
  {
   "cell_type": "code",
   "execution_count": 48,
   "metadata": {},
   "outputs": [],
   "source": [
    "leaf_data = tree.new_leaf()\n",
    "leaf_data.set_title(\"Leaf with data\")\n",
    "leaf_data.set_description(\"This is a leaf with data\")\n",
    "leaf_data.add_data(\"animals.csv\", file)\n",
    "leaf_data.kvs.add('separator', sep)\n",
    "leaf_data.save()"
   ]
  },
  {
   "cell_type": "markdown",
   "metadata": {},
   "source": [
    "### 2.4 Branching\n",
    "So far we have added new leaves as children. This represents the kind of data that builds upon previous data, like a new measurement on the same equipment with new parameters, or optimization steps for a machine learning model. If you are trying a new avenue that does not build upon an earlier leaf, you can make a branch, by setting the parent of a new leaf to an earlier leaf with ```.new_leaf(parent=*some leaf*)```"
   ]
  },
  {
   "cell_type": "code",
   "execution_count": 49,
   "metadata": {},
   "outputs": [],
   "source": [
    "leaf_branch = tree.new_leaf(parent=leaf_2)\n",
    "leaf_branch.set_title(\"First leaf of a new branch\")\n",
    "leaf_branch.set_description(\"Now we went back and continued from an older step\")\n",
    "leaf_branch.save()"
   ]
  },
  {
   "cell_type": "markdown",
   "metadata": {},
   "source": [
    "Go to the app to see the branching."
   ]
  },
  {
   "cell_type": "markdown",
   "metadata": {},
   "source": [
    "## 3. Retrieve data\n",
    "This section shows you how to work with data that is already in amie. Let's assume you come back annother day and want to have a look at the datafiles you just uploaded.\n",
    "You log in again and load the garden with ```garden.load()```"
   ]
  },
  {
   "cell_type": "code",
   "execution_count": 50,
   "metadata": {},
   "outputs": [],
   "source": [
    "import pandas as pd \n",
    "import numpy as np\n",
    "import matplotlib.pyplot as plt\n",
    "import amieci\n",
    "\n",
    "# my_key = \"your-key\" (see start of noteobook)\n",
    "\n",
    "garden = amieci.Garden(key = my_key)\n",
    "garden.load()"
   ]
  },
  {
   "cell_type": "markdown",
   "metadata": {},
   "source": [
    "There are several ways to retrieve trees and leaves. It's easiest to just go to the app, use the search function and get the UUIDs of the tree and leaf from there.\n",
    "\n",
    "The `leaf_id` is the last part of the URL, e.g. `8ebfb427-cc30-4e16-846c-7bb00100f3f4` from `https://amie.ai/#/graph/view/leaf/8ebfb427-cc30-4e16-846c-7bb00100f3f4`\n",
    "\n",
    "You can then set the current leaf to the leaf you want to work with via ```garden.set_cl(leaf_id)```"
   ]
  },
  {
   "cell_type": "code",
   "execution_count": 51,
   "metadata": {},
   "outputs": [],
   "source": [
    "garden.set_cl('8ebfb427-cc30-4e16-846c-7bb00100f3f4')"
   ]
  },
  {
   "cell_type": "code",
   "execution_count": 64,
   "metadata": {},
   "outputs": [],
   "source": [
    "garden.leaves_by_title??"
   ]
  },
  {
   "cell_type": "markdown",
   "metadata": {},
   "source": [
    "You can query your leafs from the api by calling `garden.leaves_by_title(r=False)`."
   ]
  },
  {
   "cell_type": "code",
   "execution_count": 63,
   "metadata": {},
   "outputs": [
    {
     "name": "stdout",
     "output_type": "stream",
     "text": [
      "9dddcdf6-c916-4706-8660-a14a386e761a : My first leaf\n",
      "5d490890-3271-4bce-8dd9-0770425cea21 : Added the first kvs\n",
      "59888fc0-f349-4b48-9c04-d0fc69ee6f02 : \n",
      "92240c0e-b34a-4ecc-b06e-680b3191d689 : Leaf with a plot\n",
      "4522f4a9-9d5a-4e5c-a70a-447799cf7b24 : Leaf with data\n",
      "ef7a41ff-0420-4703-975f-0c472c122e50 : First leaf of a new branch\n",
      "e614ec02-7099-4465-b67d-35f5f54b0616 : Test normal rdkit implementation\n",
      "22246f1d-1d05-4e24-b53b-df8e4b75b631 : My first leaf\n",
      "e2eb24be-9bdb-4652-900b-92d6bda1fa69 : Added the first kvs\n",
      "685a11ec-9597-4ac2-99e9-83f1f7c9ffd1 : \n",
      "c93c0f16-c271-4a7e-9417-3f78e3a7ab35 : Leaf with a plot\n",
      "8ebfb427-cc30-4e16-846c-7bb00100f3f4 : Leaf with data\n",
      "f50e3f95-a95a-4dc1-a7cd-25144d6c4f4f : First leaf of a new branch\n"
     ]
    }
   ],
   "source": [
    "garden.leaves_by_title(r= False)"
   ]
  },
  {
   "cell_type": "markdown",
   "metadata": {},
   "source": [
    "The current tree will also be automatically set."
   ]
  },
  {
   "cell_type": "code",
   "execution_count": 53,
   "metadata": {},
   "outputs": [
    {
     "data": {
      "text/plain": [
       "'My first tree'"
      ]
     },
     "execution_count": 53,
     "metadata": {},
     "output_type": "execute_result"
    }
   ],
   "source": [
    "garden.ct.title"
   ]
  },
  {
   "cell_type": "markdown",
   "metadata": {},
   "source": [
    "You can inspect the files with ```leaf.filenames()```:"
   ]
  },
  {
   "cell_type": "code",
   "execution_count": 54,
   "metadata": {},
   "outputs": [
    {
     "data": {
      "text/plain": [
       "['animals.csv']"
      ]
     },
     "execution_count": 54,
     "metadata": {},
     "output_type": "execute_result"
    }
   ],
   "source": [
    "garden.ct.cl.filenames()"
   ]
  },
  {
   "cell_type": "markdown",
   "metadata": {},
   "source": [
    "The files will not automatically be downloaded. Each leaf only contains a link to the file. Download all files in a leaf with ```leaf.download_data()``` . ```download_data()``` gives you the option to pass the UUID of the file to only download that file or ```python download_data(filename=*substring*)``` to download all files that substringmatch on ```*substring*```:"
   ]
  },
  {
   "cell_type": "code",
   "execution_count": 55,
   "metadata": {},
   "outputs": [],
   "source": [
    "file = garden.ct.cl.download_data(filename='.csv')"
   ]
  },
  {
   "cell_type": "markdown",
   "metadata": {},
   "source": [
    "This always returns a list of bytes."
   ]
  },
  {
   "cell_type": "code",
   "execution_count": 56,
   "metadata": {},
   "outputs": [
    {
     "data": {
      "text/plain": [
       "[<_io.BytesIO at 0x1d372af5258>]"
      ]
     },
     "execution_count": 56,
     "metadata": {},
     "output_type": "execute_result"
    }
   ],
   "source": [
    "file"
   ]
  },
  {
   "cell_type": "markdown",
   "metadata": {},
   "source": [
    "Since it is a CSV we use pandas again to load it. Luckily we saved the separator, so we don't have to guess it."
   ]
  },
  {
   "cell_type": "code",
   "execution_count": 57,
   "metadata": {},
   "outputs": [
    {
     "data": {
      "text/html": [
       "<div>\n",
       "<style scoped>\n",
       "    .dataframe tbody tr th:only-of-type {\n",
       "        vertical-align: middle;\n",
       "    }\n",
       "\n",
       "    .dataframe tbody tr th {\n",
       "        vertical-align: top;\n",
       "    }\n",
       "\n",
       "    .dataframe thead th {\n",
       "        text-align: right;\n",
       "    }\n",
       "</style>\n",
       "<table border=\"1\" class=\"dataframe\">\n",
       "  <thead>\n",
       "    <tr style=\"text-align: right;\">\n",
       "      <th></th>\n",
       "      <th>cats</th>\n",
       "      <th>dogs</th>\n",
       "      <th>horses</th>\n",
       "      <th>pandas</th>\n",
       "    </tr>\n",
       "  </thead>\n",
       "  <tbody>\n",
       "    <tr>\n",
       "      <th>0</th>\n",
       "      <td>12</td>\n",
       "      <td>52</td>\n",
       "      <td>29</td>\n",
       "      <td>38</td>\n",
       "    </tr>\n",
       "    <tr>\n",
       "      <th>1</th>\n",
       "      <td>93</td>\n",
       "      <td>27</td>\n",
       "      <td>91</td>\n",
       "      <td>80</td>\n",
       "    </tr>\n",
       "    <tr>\n",
       "      <th>2</th>\n",
       "      <td>94</td>\n",
       "      <td>20</td>\n",
       "      <td>50</td>\n",
       "      <td>71</td>\n",
       "    </tr>\n",
       "    <tr>\n",
       "      <th>3</th>\n",
       "      <td>27</td>\n",
       "      <td>53</td>\n",
       "      <td>57</td>\n",
       "      <td>68</td>\n",
       "    </tr>\n",
       "    <tr>\n",
       "      <th>4</th>\n",
       "      <td>90</td>\n",
       "      <td>84</td>\n",
       "      <td>40</td>\n",
       "      <td>10</td>\n",
       "    </tr>\n",
       "  </tbody>\n",
       "</table>\n",
       "</div>"
      ],
      "text/plain": [
       "   cats  dogs  horses  pandas\n",
       "0    12    52      29      38\n",
       "1    93    27      91      80\n",
       "2    94    20      50      71\n",
       "3    27    53      57      68\n",
       "4    90    84      40      10"
      ]
     },
     "execution_count": 57,
     "metadata": {},
     "output_type": "execute_result"
    }
   ],
   "source": [
    "sep = garden.ct.cl.kvs.separator\n",
    "df = pd.read_csv(file[0], sep=sep, index_col=0)\n",
    "df.head()"
   ]
  },
  {
   "cell_type": "markdown",
   "metadata": {},
   "source": [
    "## 4. Patterns for automatization\n",
    "amie makes automatic documentation part of your workflow. Below you will find some examples of how a **data scientist** and a **chemist** integrate amie into their jupyter scripts and help a winemaker optimize her wine. Read the full storry [here](https://medium.com/amie-ai/amie-use-case-data-driven-winemaking-62a7570dae8b)."
   ]
  },
  {
   "cell_type": "markdown",
   "metadata": {},
   "source": [
    "### 4.1 Data science"
   ]
  },
  {
   "cell_type": "markdown",
   "metadata": {},
   "source": [
    "Check out a full **data science** workflow with amie [here](https://github.com/disraptoer/resources/blob/master/basic_analysis.ipynb) and [here](https://github.com/disraptoer/resources/blob/master/ml_integration.ipynb). It will show you how you can analyze data, develop scikit learn models, and track them together with training data and results."
   ]
  },
  {
   "cell_type": "markdown",
   "metadata": {},
   "source": [
    "### 4.2 Measurement equipment"
   ]
  },
  {
   "cell_type": "markdown",
   "metadata": {},
   "source": [
    "Go [here](https://github.com/disraptoer/resources/blob/master/hardware_integration.ipynb) to learn how you integrate amie with your **measurement equipment** to automatically store and document the results."
   ]
  }
 ],
 "metadata": {
  "kernelspec": {
   "display_name": "RASA(master)",
   "language": "python",
   "name": "rasastack"
  },
  "language_info": {
   "codemirror_mode": {
    "name": "ipython",
    "version": 3
   },
   "file_extension": ".py",
   "mimetype": "text/x-python",
   "name": "python",
   "nbconvert_exporter": "python",
   "pygments_lexer": "ipython3",
   "version": "3.6.5"
  }
 },
 "nbformat": 4,
 "nbformat_minor": 2
}
